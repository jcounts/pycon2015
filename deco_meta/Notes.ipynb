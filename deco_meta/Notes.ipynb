{
 "cells": [
  {
   "cell_type": "code",
   "execution_count": 1,
   "metadata": {
    "collapsed": true
   },
   "outputs": [],
   "source": [
    "class Square(object):\n",
    "    def __init__(self, side):\n",
    "        self.side = side\n",
    "    def aget(self):\n",
    "        return self.side ** 2\n",
    "    def aset(self, value):\n",
    "        print('Cannot set area')\n",
    "    def adel(self):\n",
    "        print('Cannot delete area')\n",
    "    area = property(aget, aset, adel, doc='Area of a square.')"
   ]
  },
  {
   "cell_type": "code",
   "execution_count": 2,
   "metadata": {
    "collapsed": true
   },
   "outputs": [],
   "source": [
    "s = Square(5)"
   ]
  },
  {
   "cell_type": "code",
   "execution_count": 3,
   "metadata": {
    "collapsed": false
   },
   "outputs": [
    {
     "data": {
      "text/plain": [
       "25"
      ]
     },
     "execution_count": 3,
     "metadata": {},
     "output_type": "execute_result"
    }
   ],
   "source": [
    "s.area"
   ]
  },
  {
   "cell_type": "code",
   "execution_count": 5,
   "metadata": {
    "collapsed": false
   },
   "outputs": [],
   "source": [
    "!cd .."
   ]
  },
  {
   "cell_type": "code",
   "execution_count": 6,
   "metadata": {
    "collapsed": false
   },
   "outputs": [
    {
     "name": "stdout",
     "output_type": "stream",
     "text": [
      "Untitled.ipynb  \u001b[34mdescriptors\u001b[m\u001b[m/    \u001b[34mmetaclasses\u001b[m\u001b[m/    \u001b[34mproperties\u001b[m\u001b[m/\r\n"
     ]
    }
   ],
   "source": [
    "ls"
   ]
  },
  {
   "cell_type": "code",
   "execution_count": null,
   "metadata": {
    "collapsed": true
   },
   "outputs": [],
   "source": [
    "# %load properties/square.py\n",
    "\"\"\"Properties with decorators.\n",
    "\"\"\"\n",
    "\n",
    "from __future__ import print_function\n",
    "\n",
    "class Square(object):\n",
    "    \"\"\"A square using properties with decorators.\n",
    "    \"\"\"\n",
    "\n",
    "    def __init__(self, side):\n",
    "        self.side = side\n",
    "\n",
    "    @property\n",
    "    def area(self):\n",
    "        \"\"\"Calculate the area of the square when the\n",
    "        attribute is accessed.\"\"\"\n",
    "        return self.side * self.side\n",
    "\n",
    "    @area.setter\n",
    "    def area(self, value):\n",
    "        \"\"\"Don't allow setting.\"\"\"\n",
    "        print(\"Can't set the area\")\n",
    "\n",
    "    @area.deleter\n",
    "    def area(self):\n",
    "        \"\"\"Don't allow deleting.\"\"\"\n",
    "        print(\"Can't delete the area.\")\n",
    "\n",
    "\n",
    "if __name__ == '__main__':\n",
    "\n",
    "    square = Square(5)\n",
    "    print('area:', square.area)\n",
    "    print('try to set')\n",
    "    square.area = 10\n",
    "    print('area:', square.area)\n",
    "    print('try to delete')\n",
    "    del square.area\n",
    "    print('area:', square.area)\n"
   ]
  },
  {
   "cell_type": "code",
   "execution_count": 9,
   "metadata": {
    "collapsed": false,
    "scrolled": true
   },
   "outputs": [
    {
     "name": "stdout",
     "output_type": "stream",
     "text": [
      "area: 25\n",
      "try to set\n",
      "Can't set the area\n",
      "area: 25\n",
      "try to delete\n",
      "Can't delete the area.\n",
      "area: 25\n",
      "Property that defines is methods nested.\n",
      "        \n"
     ]
    }
   ],
   "source": [
    "# %load properties/square_nested.py\n",
    "\"\"\"Use a decorator to allow nested properties.\n",
    "\"\"\"\n",
    "\n",
    "from __future__ import print_function\n",
    "\n",
    "def nested_property(func):\n",
    "    \"\"\"Make defining properties simpler.\n",
    "    \"\"\"\n",
    "    names = func()\n",
    "    # We want the docstring from the decorated function.\n",
    "    # If we do not set 'doc', we get the docstring from `fget`.\n",
    "    names['doc'] = func.__doc__\n",
    "    return property(**names)\n",
    "\n",
    "\n",
    "class Square(object):\n",
    "    \"\"\"A square using properties with decorators.\n",
    "    \"\"\"\n",
    "\n",
    "    def __init__(self, side):\n",
    "        self.side = side\n",
    "\n",
    "    @nested_property\n",
    "    def area():\n",
    "        \"\"\"Property that defines is methods nested.\n",
    "        \"\"\"\n",
    "\n",
    "        def fget(self):\n",
    "            \"\"\"\n",
    "            Calculate the area of the square\n",
    "            when the attribute is accessed.\n",
    "            \"\"\"\n",
    "            return self.side * self.side\n",
    "\n",
    "        def fset(self, value):\n",
    "            \"\"\"Don't allow setting.\"\"\"\n",
    "            print(\"Can't set the area\")\n",
    "\n",
    "        def fdel(self):\n",
    "            \"\"\"Don't allow deleting.\"\"\"\n",
    "            print(\"Can't delete the area.\")\n",
    "\n",
    "        return locals()\n",
    "\n",
    "\n",
    "if __name__ == '__main__':\n",
    "\n",
    "    square = Square(5)\n",
    "    print('area:', square.area)\n",
    "    print('try to set')\n",
    "    square.area = 10\n",
    "    print('area:', square.area)\n",
    "    print('try to delete')\n",
    "    del square.area\n",
    "    print('area:', square.area)\n",
    "    print(Square.area.__doc__)\n"
   ]
  },
  {
   "cell_type": "code",
   "execution_count": 10,
   "metadata": {
    "collapsed": false
   },
   "outputs": [
    {
     "name": "stdout",
     "output_type": "stream",
     "text": [
      "Untitled.ipynb  \u001b[34mdescriptors\u001b[m\u001b[m/    \u001b[34mmetaclasses\u001b[m\u001b[m/    \u001b[34mproperties\u001b[m\u001b[m/\r\n"
     ]
    }
   ],
   "source": [
    "ls"
   ]
  },
  {
   "cell_type": "code",
   "execution_count": 12,
   "metadata": {
    "collapsed": true
   },
   "outputs": [],
   "source": [
    "# %load descriptors/datadescriptor.py\n",
    "\"\"\"A typical data descriptor.\n",
    "\"\"\"\n",
    "\n",
    "from __future__ import print_function\n",
    "\n",
    "class DataDescriptor(object):\n",
    "    \"\"\"A simple descriptor.\n",
    "    \"\"\"\n",
    "    def __init__(self):\n",
    "        self.value = 0\n",
    "    def __get__(self, instance, cls):\n",
    "        print('data descriptor __get__')\n",
    "        return self.value\n",
    "    def __set__(self, instance, value):\n",
    "        print('data descriptor __set__')\n",
    "        try:\n",
    "            self.value = value.upper()\n",
    "        except AttributeError:\n",
    "            self.value = value\n",
    "    def __delete__(self, instance):\n",
    "        print(\"Don't like to be deleted.\" )\n"
   ]
  },
  {
   "cell_type": "code",
   "execution_count": 13,
   "metadata": {
    "collapsed": true
   },
   "outputs": [],
   "source": [
    "class A(object):\n",
    "    attr = DataDescriptor()"
   ]
  },
  {
   "cell_type": "code",
   "execution_count": 14,
   "metadata": {
    "collapsed": true
   },
   "outputs": [],
   "source": [
    "a = A()"
   ]
  },
  {
   "cell_type": "code",
   "execution_count": 15,
   "metadata": {
    "collapsed": false
   },
   "outputs": [
    {
     "name": "stdout",
     "output_type": "stream",
     "text": [
      "data descriptor __get__\n"
     ]
    },
    {
     "data": {
      "text/plain": [
       "0"
      ]
     },
     "execution_count": 15,
     "metadata": {},
     "output_type": "execute_result"
    }
   ],
   "source": [
    "a.attr"
   ]
  },
  {
   "cell_type": "markdown",
   "metadata": {},
   "source": [
    "The above internally does:"
   ]
  },
  {
   "cell_type": "code",
   "execution_count": 16,
   "metadata": {
    "collapsed": false
   },
   "outputs": [
    {
     "name": "stdout",
     "output_type": "stream",
     "text": [
      "data descriptor __get__\n"
     ]
    },
    {
     "data": {
      "text/plain": [
       "0"
      ]
     },
     "execution_count": 16,
     "metadata": {},
     "output_type": "execute_result"
    }
   ],
   "source": [
    "type(a).__dict__['attr'].__get__(a, type(a))"
   ]
  },
  {
   "cell_type": "code",
   "execution_count": 17,
   "metadata": {
    "collapsed": false
   },
   "outputs": [
    {
     "name": "stdout",
     "output_type": "stream",
     "text": [
      "data descriptor __set__\n"
     ]
    }
   ],
   "source": [
    "a.attr = 'hi'"
   ]
  },
  {
   "cell_type": "code",
   "execution_count": 18,
   "metadata": {
    "collapsed": false
   },
   "outputs": [
    {
     "name": "stdout",
     "output_type": "stream",
     "text": [
      "data descriptor __get__\n"
     ]
    },
    {
     "data": {
      "text/plain": [
       "'HI'"
      ]
     },
     "execution_count": 18,
     "metadata": {},
     "output_type": "execute_result"
    }
   ],
   "source": [
    "a.attr"
   ]
  },
  {
   "cell_type": "code",
   "execution_count": 19,
   "metadata": {
    "collapsed": true
   },
   "outputs": [],
   "source": [
    "\"\"\"A typical non data descriptor.\n",
    "\"\"\"\n",
    "\n",
    "from __future__ import print_function\n",
    "\n",
    "class NonDataDescriptor(object):\n",
    "    \"\"\"A simple descriptor.\n",
    "    \"\"\"\n",
    "    def __init__(self):\n",
    "        self.value = 0\n",
    "    def __get__(self, instance, cls):\n",
    "        print('data descriptor __get__')\n",
    "        return self.value + 10"
   ]
  },
  {
   "cell_type": "code",
   "execution_count": 20,
   "metadata": {
    "collapsed": true
   },
   "outputs": [],
   "source": [
    "class B(object):\n",
    "    attr = NonDataDescriptor()"
   ]
  },
  {
   "cell_type": "code",
   "execution_count": 21,
   "metadata": {
    "collapsed": true
   },
   "outputs": [],
   "source": [
    "ten = B()"
   ]
  },
  {
   "cell_type": "code",
   "execution_count": 22,
   "metadata": {
    "collapsed": false
   },
   "outputs": [
    {
     "name": "stdout",
     "output_type": "stream",
     "text": [
      "data descriptor __get__\n"
     ]
    },
    {
     "data": {
      "text/plain": [
       "10"
      ]
     },
     "execution_count": 22,
     "metadata": {},
     "output_type": "execute_result"
    }
   ],
   "source": [
    "ten.attr"
   ]
  },
  {
   "cell_type": "code",
   "execution_count": 23,
   "metadata": {
    "collapsed": true
   },
   "outputs": [],
   "source": [
    "ten.attr = 100"
   ]
  },
  {
   "cell_type": "code",
   "execution_count": 24,
   "metadata": {
    "collapsed": false
   },
   "outputs": [
    {
     "data": {
      "text/plain": [
       "100"
      ]
     },
     "execution_count": 24,
     "metadata": {},
     "output_type": "execute_result"
    }
   ],
   "source": [
    "ten.attr"
   ]
  },
  {
   "cell_type": "code",
   "execution_count": 26,
   "metadata": {
    "collapsed": false
   },
   "outputs": [],
   "source": [
    "class Overridden(object):\n",
    "    attr = DataDescriptor()\n",
    "    def __getattribute__(self, name):\n",
    "        print('no way')"
   ]
  },
  {
   "cell_type": "code",
   "execution_count": 28,
   "metadata": {
    "collapsed": false
   },
   "outputs": [],
   "source": [
    "o = Overridden()"
   ]
  },
  {
   "cell_type": "code",
   "execution_count": 29,
   "metadata": {
    "collapsed": false
   },
   "outputs": [
    {
     "name": "stdout",
     "output_type": "stream",
     "text": [
      "no way\n"
     ]
    }
   ],
   "source": [
    "o.attr"
   ]
  },
  {
   "cell_type": "code",
   "execution_count": 30,
   "metadata": {
    "collapsed": true
   },
   "outputs": [],
   "source": [
    "def func():\n",
    "    pass"
   ]
  },
  {
   "cell_type": "code",
   "execution_count": 31,
   "metadata": {
    "collapsed": false
   },
   "outputs": [
    {
     "data": {
      "text/plain": [
       "<method-wrapper '__get__' of function object at 0x1054ebb90>"
      ]
     },
     "execution_count": 31,
     "metadata": {},
     "output_type": "execute_result"
    }
   ],
   "source": [
    "func.__get__"
   ]
  },
  {
   "cell_type": "code",
   "execution_count": 32,
   "metadata": {
    "collapsed": true
   },
   "outputs": [],
   "source": [
    "class C(object):\n",
    "    def meth(self):\n",
    "        pass"
   ]
  },
  {
   "cell_type": "code",
   "execution_count": 33,
   "metadata": {
    "collapsed": true
   },
   "outputs": [],
   "source": [
    "c = C()"
   ]
  },
  {
   "cell_type": "code",
   "execution_count": 34,
   "metadata": {
    "collapsed": false
   },
   "outputs": [
    {
     "data": {
      "text/plain": [
       "<bound method C.meth of <__main__.C object at 0x105029410>>"
      ]
     },
     "execution_count": 34,
     "metadata": {},
     "output_type": "execute_result"
    }
   ],
   "source": [
    "c.meth"
   ]
  },
  {
   "cell_type": "code",
   "execution_count": 35,
   "metadata": {
    "collapsed": false
   },
   "outputs": [
    {
     "data": {
      "text/plain": [
       "<unbound method C.meth>"
      ]
     },
     "execution_count": 35,
     "metadata": {},
     "output_type": "execute_result"
    }
   ],
   "source": [
    "C.meth"
   ]
  },
  {
   "cell_type": "code",
   "execution_count": 37,
   "metadata": {
    "collapsed": false
   },
   "outputs": [
    {
     "name": "stdout",
     "output_type": "stream",
     "text": [
      "store1 10\n",
      "store2 10\n",
      "Setting store1 only.\n",
      "store1 100\n",
      "store2 100\n"
     ]
    }
   ],
   "source": [
    "# %load descriptors/class_storage.py\n",
    "\n",
    "\"\"\"A descriptor works only in a class.\n",
    "\n",
    "Storing attribute data directly in a descriptor\n",
    "means sharing between instances.\n",
    "\"\"\"\n",
    "\n",
    "from __future__ import print_function\n",
    "\n",
    "\n",
    "class DescriptorClassStorage(object):\n",
    "    \"\"\"Descriptor storing data in class.\"\"\"\n",
    "\n",
    "    def __init__(self, default=None):\n",
    "        self.value = default\n",
    "\n",
    "    def __get__(self, instance, owner):\n",
    "        return self.value\n",
    "\n",
    "    def __set__(self, instance, value):\n",
    "        self.value = value\n",
    "\n",
    "\n",
    "if __name__ == '__main__':\n",
    "    class StoreClass(object):\n",
    "        \"\"\"All instances will share `attr`.\n",
    "        \"\"\"\n",
    "        attr = DescriptorClassStorage(10)\n",
    "\n",
    "    store1 = StoreClass()\n",
    "    store2 = StoreClass()\n",
    "    print('store1', store1.attr)\n",
    "    print('store2', store2.attr)\n",
    "    print('Setting store1 only.')\n",
    "    store1.attr = 100\n",
    "    print('store1', store1.attr)\n",
    "    print('store2', store2.attr)\n"
   ]
  },
  {
   "cell_type": "code",
   "execution_count": 39,
   "metadata": {
    "collapsed": false
   },
   "outputs": [
    {
     "name": "stdout",
     "output_type": "stream",
     "text": [
      "store1 10\n",
      "store2 10\n",
      "Setting store1 only.\n",
      "store1 100\n",
      "store2 10\n",
      "_hidden: [(<__main__.StoreInstance object at 0x105507c50>, 100)]\n",
      "Deleted store1\n",
      "_hidden: []\n"
     ]
    }
   ],
   "source": [
    "# %load descriptors/weakkeydict_storage.py\n",
    "\n",
    "\"\"\"A descriptor works only in a class.\n",
    "\n",
    "We can store a different value for each instance in a dictionary\n",
    "in the descriptor.\n",
    "\"\"\"\n",
    "\n",
    "from __future__ import print_function\n",
    "\n",
    "from weakref import WeakKeyDictionary\n",
    "\n",
    "\n",
    "class DescriptorWeakKeyDictStorage(object):\n",
    "    \"\"\"Descriptor that stores attribute data in instances.\n",
    "    \"\"\"\n",
    "    _hidden = WeakKeyDictionary()\n",
    "\n",
    "    def __init__(self, default=None):\n",
    "        self.default = default\n",
    "\n",
    "    def __get__(self, instance, owner):\n",
    "        return DescriptorWeakKeyDictStorage._hidden.get(instance, self.default)\n",
    "\n",
    "    def __set__(self, instance, value):\n",
    "        DescriptorWeakKeyDictStorage._hidden[instance] = value\n",
    "\n",
    "\n",
    "if __name__ == '__main__':\n",
    "    class StoreInstance(object):\n",
    "        \"\"\"All instances have own `attr`.\n",
    "        \"\"\"\n",
    "        attr = DescriptorWeakKeyDictStorage(10)\n",
    "\n",
    "    store1 = StoreInstance()\n",
    "    store2 = StoreInstance()\n",
    "    print('store1', store1.attr)\n",
    "    print('store2', store2.attr)\n",
    "    print('Setting store1 only.')\n",
    "    store1.attr = 100\n",
    "    print('store1', store1.attr)\n",
    "    print('store2', store2.attr)\n",
    "    print('_hidden:', DescriptorWeakKeyDictStorage._hidden.items())\n",
    "    del store1\n",
    "    print('Deleted store1')\n",
    "    print('_hidden:', DescriptorWeakKeyDictStorage._hidden.items())\n",
    "\n"
   ]
  },
  {
   "cell_type": "code",
   "execution_count": 41,
   "metadata": {
    "collapsed": false
   },
   "outputs": [
    {
     "name": "stdout",
     "output_type": "stream",
     "text": [
      "Cannot set default to float, must be int.\n",
      "attr1 10\n",
      "attr1 100\n",
      "Cannot set attr1 to float, must be int.\n"
     ]
    }
   ],
   "source": [
    "# %load descriptors/checked.py\n",
    "\n",
    "\"\"\"Example for descriptor that checks conditions on attributes.\n",
    "\"\"\"\n",
    "from __future__ import print_function\n",
    "\n",
    "from weakref import WeakKeyDictionary\n",
    "\n",
    "\n",
    "class Checked(object):\n",
    "    \"\"\"Descriptor that checks with a user-supplied check function\n",
    "    if an attribute is valid.\n",
    "    \"\"\"\n",
    "\n",
    "    _hidden = WeakKeyDictionary()\n",
    "\n",
    "    def __init__(self, checker=None, default=None):\n",
    "        if checker:\n",
    "            # checker must be a callable\n",
    "            checker(default)\n",
    "        self.checker = checker\n",
    "        self.default = default\n",
    "\n",
    "    def __get__(self, instance, owner):\n",
    "        return Checked._hidden.get(instance, self.default)\n",
    "\n",
    "    def __set__(self, instance, value):\n",
    "        if self.checker:\n",
    "            self.checker(value)\n",
    "        Checked._hidden[instance] = value\n",
    "\n",
    "\n",
    "if __name__ == '__main__':\n",
    "\n",
    "    def is_int(value):\n",
    "        \"\"\"Check if value is an integer.\n",
    "        \"\"\"\n",
    "        if not isinstance(value, int):\n",
    "            raise ValueError('Int required {} found'.format(type(value)))\n",
    "\n",
    "    class Restricted(object):\n",
    "        \"\"\"Use checked attributes.\n",
    "        \"\"\"\n",
    "        attr1 = Checked(checker=is_int, default=10)\n",
    "        attr2 = Checked(default=12.5)\n",
    "        # Setting the default to float, `is_int` raises a `ValueError`.\n",
    "        try:\n",
    "            attr3 = Checked(checker=is_int, default=12.5)\n",
    "        except ValueError:\n",
    "            print('Cannot set default to float, must be int.')\n",
    "            attr3 = Checked(checker=is_int, default=12)\n",
    "\n",
    "    restricted = Restricted()\n",
    "    print('attr1', restricted.attr1)\n",
    "    restricted.attr1 = 100\n",
    "    print('attr1', restricted.attr1)\n",
    "    try:\n",
    "        restricted.attr1 = 200.12\n",
    "    except ValueError:\n",
    "        print('Cannot set attr1 to float, must be int.')\n",
    "        restricted.attr1 = 200\n"
   ]
  },
  {
   "cell_type": "code",
   "execution_count": 42,
   "metadata": {
    "collapsed": true
   },
   "outputs": [],
   "source": [
    "class C(object):\n",
    "    attr = 10"
   ]
  },
  {
   "cell_type": "markdown",
   "metadata": {},
   "source": [
    "same as:"
   ]
  },
  {
   "cell_type": "code",
   "execution_count": 43,
   "metadata": {
    "collapsed": true
   },
   "outputs": [],
   "source": [
    "C = type('C', (object,), {'attr': 10})"
   ]
  },
  {
   "cell_type": "code",
   "execution_count": 44,
   "metadata": {
    "collapsed": true
   },
   "outputs": [],
   "source": [
    "class MyMeta(type):\n",
    "    def __str__(cls):\n",
    "        return 'hello'"
   ]
  },
  {
   "cell_type": "code",
   "execution_count": 45,
   "metadata": {
    "collapsed": true
   },
   "outputs": [],
   "source": [
    "class A:\n",
    "    __metaclass__ = MyMeta"
   ]
  },
  {
   "cell_type": "code",
   "execution_count": 46,
   "metadata": {
    "collapsed": false
   },
   "outputs": [
    {
     "data": {
      "text/plain": [
       "'hello'"
      ]
     },
     "execution_count": 46,
     "metadata": {},
     "output_type": "execute_result"
    }
   ],
   "source": [
    "str(A)"
   ]
  },
  {
   "cell_type": "code",
   "execution_count": 47,
   "metadata": {
    "collapsed": false
   },
   "outputs": [
    {
     "data": {
      "text/plain": [
       "__main__.A"
      ]
     },
     "execution_count": 47,
     "metadata": {},
     "output_type": "execute_result"
    }
   ],
   "source": [
    "A"
   ]
  },
  {
   "cell_type": "code",
   "execution_count": 49,
   "metadata": {
    "collapsed": false
   },
   "outputs": [
    {
     "data": {
      "text/plain": [
       "__main__.MyMeta"
      ]
     },
     "execution_count": 49,
     "metadata": {},
     "output_type": "execute_result"
    }
   ],
   "source": [
    "type(A)"
   ]
  },
  {
   "cell_type": "code",
   "execution_count": 50,
   "metadata": {
    "collapsed": true
   },
   "outputs": [],
   "source": [
    "a = A"
   ]
  },
  {
   "cell_type": "code",
   "execution_count": 56,
   "metadata": {
    "collapsed": true
   },
   "outputs": [],
   "source": [
    "class MyMeta(type):\n",
    "    def __new__(mcl, name, bases, cdict):\n",
    "        print(mcl)\n",
    "        print(name)\n",
    "        print(bases)\n",
    "        print(cdict)\n",
    "        super(MyMeta, mcl).__new__(mcl, name, bases, cdict)"
   ]
  },
  {
   "cell_type": "code",
   "execution_count": 57,
   "metadata": {
    "collapsed": false
   },
   "outputs": [
    {
     "name": "stdout",
     "output_type": "stream",
     "text": [
      "<class '__main__.MyMeta'>\n",
      "New\n",
      "()\n",
      "{'__module__': '__main__', '__metaclass__': <class '__main__.MyMeta'>}\n"
     ]
    }
   ],
   "source": [
    "class New:\n",
    "    __metaclass__ = MyMeta"
   ]
  },
  {
   "cell_type": "markdown",
   "metadata": {},
   "source": [
    "Interesting..."
   ]
  },
  {
   "cell_type": "code",
   "execution_count": 59,
   "metadata": {
    "collapsed": false
   },
   "outputs": [
    {
     "name": "stdout",
     "output_type": "stream",
     "text": [
      "It works with CPython version 2.7.5.\n"
     ]
    }
   ],
   "source": [
    "# %load metaclasses/meta_2_3.py\n",
    "# file: meta_2_3.py\n",
    "\n",
    "\"\"\"\n",
    "The code is a bit hard to understand. The basic idea is exploiting the idea\n",
    "that metaclasses can customize class creation and are picked by by the parent\n",
    "class. This particular implementation uses a metaclass to remove its own parent\n",
    "from the inheritance tree on subclassing. The end result is that the function\n",
    "creates a dummy class with a dummy metaclass. Once subclassed the dummy\n",
    "classes metaclass is used which has a constructor that basically instances a\n",
    "new class from the original parent and the actually intended metaclass.\n",
    "That way the dummy class and dummy metaclass never show up.\n",
    "\n",
    "From:\n",
    " http://lucumr.pocoo.org/2013/5/21/porting-to-python-3-redux/#metaclass-syntax-changes\n",
    "\n",
    "Used in:\n",
    "\n",
    "* Jinja2\n",
    "* SQLAlchemy\n",
    "* future (python-future.org)\n",
    "\n",
    "\"\"\"\n",
    "\n",
    "from __future__ import print_function\n",
    "import platform\n",
    "\n",
    "\n",
    "# from jinja2/_compat.py\n",
    "def with_metaclass(meta, *bases):\n",
    "    # This requires a bit of explanation: the basic idea is to make a\n",
    "    # dummy metaclass for one level of class instanciation that replaces\n",
    "    # itself with the actual metaclass.  Because of internal type checks\n",
    "    # we also need to make sure that we downgrade the custom metaclass\n",
    "    # for one level to something closer to type (that's why __call__ and\n",
    "    # __init__ comes back from type etc.).\n",
    "    #\n",
    "    # This has the advantage over six.with_metaclass in that it does not\n",
    "    # introduce dummy classes into the final MRO.\n",
    "    class metaclass(meta):\n",
    "        __call__ = type.__call__\n",
    "        __init__ = type.__init__\n",
    "\n",
    "        def __new__(cls, name, this_bases, d):\n",
    "            if this_bases is None:\n",
    "                return type.__new__(cls, name, (), d)\n",
    "            return meta(name, bases, d)\n",
    "\n",
    "    return metaclass('temporary_class', None, {})\n",
    "\n",
    "\n",
    "if __name__ == '__main__':\n",
    "\n",
    "    class BaseClass(object):\n",
    "        pass\n",
    "\n",
    "\n",
    "    class MetaClass(type):\n",
    "        \"\"\"Metaclass for Python 2 and 3.\n",
    "        \"\"\"\n",
    "        def __init__(cls, name, bases, cdict):\n",
    "            print('It works with {impl} version {ver}.'.format(\n",
    "                impl=platform.python_implementation(),\n",
    "                ver=platform.python_version()))\n",
    "            super(MetaClass, cls).__init__(name, bases, cdict)\n",
    "\n",
    "\n",
    "    class Class(with_metaclass(MetaClass, BaseClass)):\n",
    "        # BaseClass is optional.\n",
    "        pass\n"
   ]
  },
  {
   "cell_type": "code",
   "execution_count": 63,
   "metadata": {
    "collapsed": false
   },
   "outputs": [
    {
     "name": "stdout",
     "output_type": "stream",
     "text": [
      "Hello from AttributeLess.\n"
     ]
    },
    {
     "ename": "Exception",
     "evalue": "Found non-callable class attribute \"a\". Only methods are allowed.",
     "output_type": "error",
     "traceback": [
      "\u001b[0;31m---------------------------------------------------------------------------\u001b[0m",
      "\u001b[0;31mException\u001b[0m                                 Traceback (most recent call last)",
      "\u001b[0;32m<ipython-input-63-ed62002b29d1>\u001b[0m in \u001b[0;36m<module>\u001b[0;34m()\u001b[0m\n\u001b[1;32m     42\u001b[0m \u001b[0;34m\u001b[0m\u001b[0m\n\u001b[1;32m     43\u001b[0m \u001b[0;34m\u001b[0m\u001b[0m\n\u001b[0;32m---> 44\u001b[0;31m     \u001b[0;32mclass\u001b[0m \u001b[0mWithAttribute\u001b[0m\u001b[0;34m(\u001b[0m\u001b[0mAttributeChecker\u001b[0m\u001b[0;34m)\u001b[0m\u001b[0;34m:\u001b[0m\u001b[0;34m\u001b[0m\u001b[0m\n\u001b[0m\u001b[1;32m     45\u001b[0m         \"\"\"Has non-callable class attribute.\n\u001b[1;32m     46\u001b[0m         \u001b[0mWill\u001b[0m \u001b[0;32mraise\u001b[0m \u001b[0man\u001b[0m \u001b[0mexception\u001b[0m\u001b[0;34m.\u001b[0m\u001b[0;34m\u001b[0m\u001b[0m\n",
      "\u001b[0;32m<ipython-input-63-ed62002b29d1>\u001b[0m in \u001b[0;36m__init__\u001b[0;34m(cls, name, bases, cdict)\u001b[0m\n\u001b[1;32m     17\u001b[0m                 \u001b[0mmsg\u001b[0m \u001b[0;34m=\u001b[0m \u001b[0;34m'Found non-callable class attribute \"%s\". '\u001b[0m \u001b[0;34m%\u001b[0m \u001b[0mkey\u001b[0m\u001b[0;34m\u001b[0m\u001b[0m\n\u001b[1;32m     18\u001b[0m                 \u001b[0mmsg\u001b[0m \u001b[0;34m+=\u001b[0m \u001b[0;34m'Only methods are allowed.'\u001b[0m\u001b[0;34m\u001b[0m\u001b[0m\n\u001b[0;32m---> 19\u001b[0;31m                 \u001b[0;32mraise\u001b[0m \u001b[0mException\u001b[0m\u001b[0;34m(\u001b[0m\u001b[0mmsg\u001b[0m\u001b[0;34m)\u001b[0m\u001b[0;34m\u001b[0m\u001b[0m\n\u001b[0m\u001b[1;32m     20\u001b[0m         \u001b[0msuper\u001b[0m\u001b[0;34m(\u001b[0m\u001b[0mNoClassAttributes\u001b[0m\u001b[0;34m,\u001b[0m \u001b[0mcls\u001b[0m\u001b[0;34m)\u001b[0m\u001b[0;34m.\u001b[0m\u001b[0m__init__\u001b[0m\u001b[0;34m(\u001b[0m\u001b[0mname\u001b[0m\u001b[0;34m,\u001b[0m \u001b[0mbases\u001b[0m\u001b[0;34m,\u001b[0m \u001b[0mcdict\u001b[0m\u001b[0;34m)\u001b[0m\u001b[0;34m\u001b[0m\u001b[0m\n\u001b[1;32m     21\u001b[0m \u001b[0;34m\u001b[0m\u001b[0m\n",
      "\u001b[0;31mException\u001b[0m: Found non-callable class attribute \"a\". Only methods are allowed."
     ]
    }
   ],
   "source": [
    "# %load metaclasses/noclassattr.py\n",
    "#file: noclassattr.py\n",
    "\n",
    "\"\"\"Preventing non-callable class attributes with a metaclass.\n",
    "\"\"\"\n",
    "\n",
    "from __future__ import print_function\n",
    "\n",
    "class NoClassAttributes(type):\n",
    "    \"\"\"No non-callable class attributes allowed\n",
    "    \"\"\"\n",
    "    def __init__(cls, name, bases, cdict):\n",
    "        allowed = set(['__module__', '__metaclass__', '__doc__',\n",
    "                       '__qualname__'])\n",
    "        for key, value in cdict.items():\n",
    "            if (key not in allowed) and (not callable(value)):\n",
    "                msg = 'Found non-callable class attribute \"%s\". ' % key\n",
    "                msg += 'Only methods are allowed.'\n",
    "                raise Exception(msg)\n",
    "        super(NoClassAttributes, cls).__init__(name, bases, cdict)\n",
    "\n",
    "\n",
    "if __name__ == '__main__':\n",
    "\n",
    "    from meta_2_3 import with_metaclass\n",
    "\n",
    "    class AttributeChecker(with_metaclass(NoClassAttributes)):\n",
    "        \"\"\"Base class for meta.\n",
    "        \"\"\"\n",
    "        pass\n",
    "\n",
    "    class AttributeLess(AttributeChecker):\n",
    "        \"\"\"Only methods work.\n",
    "        \"\"\"\n",
    "        def meth(self):\n",
    "            \"\"\"This is allowed'\n",
    "            \"\"\"\n",
    "            print('Hello from AttributeLess.')\n",
    "\n",
    "    attributeless = AttributeLess()\n",
    "    attributeless.meth()\n",
    "\n",
    "\n",
    "    class WithAttribute(AttributeChecker):\n",
    "        \"\"\"Has non-callable class attribute.\n",
    "        Will raise an exception.\n",
    "        \"\"\"\n",
    "        a = 10\n",
    "        def meth(self):\n",
    "            \"\"\"This is allowed'\n",
    "            \"\"\"\n",
    "            print('Hello from WithAttribute')\n",
    "\n"
   ]
  },
  {
   "cell_type": "code",
   "execution_count": 62,
   "metadata": {
    "collapsed": false
   },
   "outputs": [
    {
     "name": "stdout",
     "output_type": "stream",
     "text": [
      "/Users/jordancounts/Desktop/PyCon/deco_meta/metaclasses\n"
     ]
    }
   ],
   "source": [
    "cd metaclasses/"
   ]
  },
  {
   "cell_type": "markdown",
   "metadata": {},
   "source": [
    "Can achieve same results using decorators:"
   ]
  },
  {
   "cell_type": "code",
   "execution_count": 65,
   "metadata": {
    "collapsed": false,
    "scrolled": true
   },
   "outputs": [
    {
     "name": "stdout",
     "output_type": "stream",
     "text": [
      "Hello from AttributeLess.\n"
     ]
    },
    {
     "ename": "Exception",
     "evalue": "Found non-callable class attribute \"a\". Only methods are allowed.",
     "output_type": "error",
     "traceback": [
      "\u001b[0;31m---------------------------------------------------------------------------\u001b[0m",
      "\u001b[0;31mException\u001b[0m                                 Traceback (most recent call last)",
      "\u001b[0;32m<ipython-input-65-377f0dd2f7a3>\u001b[0m in \u001b[0;36m<module>\u001b[0;34m()\u001b[0m\n\u001b[1;32m     30\u001b[0m \u001b[0;34m\u001b[0m\u001b[0m\n\u001b[1;32m     31\u001b[0m     \u001b[0;34m@\u001b[0m\u001b[0mnoclassattr_deco\u001b[0m\u001b[0;34m\u001b[0m\u001b[0m\n\u001b[0;32m---> 32\u001b[0;31m     \u001b[0;32mclass\u001b[0m \u001b[0mWithAttribute\u001b[0m\u001b[0;34m(\u001b[0m\u001b[0mobject\u001b[0m\u001b[0;34m)\u001b[0m\u001b[0;34m:\u001b[0m\u001b[0;34m\u001b[0m\u001b[0m\n\u001b[0m\u001b[1;32m     33\u001b[0m         \"\"\"Has non-callable class attribute.\n\u001b[1;32m     34\u001b[0m         \u001b[0mWill\u001b[0m \u001b[0;32mraise\u001b[0m \u001b[0man\u001b[0m \u001b[0mexception\u001b[0m\u001b[0;34m.\u001b[0m\u001b[0;34m\u001b[0m\u001b[0m\n",
      "\u001b[0;32m<ipython-input-65-377f0dd2f7a3>\u001b[0m in \u001b[0;36mnoclassattr_deco\u001b[0;34m(cls)\u001b[0m\n\u001b[1;32m     11\u001b[0m             \u001b[0mmsg\u001b[0m \u001b[0;34m=\u001b[0m \u001b[0;34m'Found non-callable class attribute \"%s\". '\u001b[0m \u001b[0;34m%\u001b[0m \u001b[0mkey\u001b[0m\u001b[0;34m\u001b[0m\u001b[0m\n\u001b[1;32m     12\u001b[0m             \u001b[0mmsg\u001b[0m \u001b[0;34m+=\u001b[0m \u001b[0;34m'Only methods are allowed.'\u001b[0m\u001b[0;34m\u001b[0m\u001b[0m\n\u001b[0;32m---> 13\u001b[0;31m             \u001b[0;32mraise\u001b[0m \u001b[0mException\u001b[0m\u001b[0;34m(\u001b[0m\u001b[0mmsg\u001b[0m\u001b[0;34m)\u001b[0m\u001b[0;34m\u001b[0m\u001b[0m\n\u001b[0m\u001b[1;32m     14\u001b[0m     \u001b[0;32mreturn\u001b[0m \u001b[0mcls\u001b[0m\u001b[0;34m\u001b[0m\u001b[0m\n\u001b[1;32m     15\u001b[0m \u001b[0;34m\u001b[0m\u001b[0m\n",
      "\u001b[0;31mException\u001b[0m: Found non-callable class attribute \"a\". Only methods are allowed."
     ]
    }
   ],
   "source": [
    "# %load class_deco.py\n",
    "# file: class_deco.py\n",
    "\n",
    "def noclassattr_deco(cls):\n",
    "    \"\"\"Class decorator to allow only callable attributes.\n",
    "    \"\"\"\n",
    "    allowed = set(['__module__', '__metaclass__', '__doc__', '__qualname__',\n",
    "                   '__weakref__', '__dict__'])\n",
    "    for key, value in cls.__dict__.items():\n",
    "        if (key not in allowed) and (not callable(value)):\n",
    "            msg = 'Found non-callable class attribute \"%s\". ' % key\n",
    "            msg += 'Only methods are allowed.'\n",
    "            raise Exception(msg)\n",
    "    return cls\n",
    "\n",
    "\n",
    "if __name__ == '__main__':\n",
    "\n",
    "    @noclassattr_deco\n",
    "    class AttributeLess(object):\n",
    "        \"\"\"Only methods work.\n",
    "        \"\"\"\n",
    "        def meth(self):\n",
    "            \"\"\"This is allowed'\n",
    "            \"\"\"\n",
    "            print('Hello from AttributeLess.')\n",
    "\n",
    "    attributeless = AttributeLess()\n",
    "    attributeless.meth()\n",
    "\n",
    "    @noclassattr_deco\n",
    "    class WithAttribute(object):\n",
    "        \"\"\"Has non-callable class attribute.\n",
    "        Will raise an exception.\n",
    "        \"\"\"\n",
    "        a = 10\n",
    "        def meth(self):\n",
    "            \"\"\"This is allowed'\n",
    "            \"\"\"\n",
    "            print('Hello from WithAttribute')"
   ]
  },
  {
   "cell_type": "code",
   "execution_count": 67,
   "metadata": {
    "collapsed": false
   },
   "outputs": [
    {
     "name": "stdout",
     "output_type": "stream",
     "text": [
      "0\n",
      "5.5\n",
      "['_MyClass__attr1', '_MyClass__attr2', '__class__', '__delattr__', '__doc__', '__format__', '__getattribute__', '__hash__', '__init__', '__module__', '__new__', '__reduce__', '__reduce_ex__', '__repr__', '__setattr__', '__sizeof__', '__slots__', '__str__', '__subclasshook__', 'attr1', 'attr2']\n",
      "['__attr2', '__attr1']\n"
     ]
    },
    {
     "ename": "TypeError",
     "evalue": "Required data type is <type 'int'>. Got <type 'float'>",
     "output_type": "error",
     "traceback": [
      "\u001b[0;31m---------------------------------------------------------------------------\u001b[0m",
      "\u001b[0;31mTypeError\u001b[0m                                 Traceback (most recent call last)",
      "\u001b[0;32m<ipython-input-67-38ad269450e5>\u001b[0m in \u001b[0;36m<module>\u001b[0;34m()\u001b[0m\n\u001b[1;32m     74\u001b[0m         \u001b[0mmy_inst\u001b[0m\u001b[0;34m.\u001b[0m\u001b[0munknown\u001b[0m \u001b[0;34m=\u001b[0m \u001b[0;36m100\u001b[0m\u001b[0;34m\u001b[0m\u001b[0m\n\u001b[1;32m     75\u001b[0m \u001b[0;34m\u001b[0m\u001b[0m\n\u001b[0;32m---> 76\u001b[0;31m     \u001b[0mmain\u001b[0m\u001b[0;34m(\u001b[0m\u001b[0;34m)\u001b[0m\u001b[0;34m\u001b[0m\u001b[0m\n\u001b[0m",
      "\u001b[0;32m<ipython-input-67-38ad269450e5>\u001b[0m in \u001b[0;36mmain\u001b[0;34m()\u001b[0m\n\u001b[1;32m     69\u001b[0m         \u001b[0;32mprint\u001b[0m\u001b[0;34m(\u001b[0m\u001b[0mdir\u001b[0m\u001b[0;34m(\u001b[0m\u001b[0mmy_inst\u001b[0m\u001b[0;34m)\u001b[0m\u001b[0;34m)\u001b[0m\u001b[0;34m\u001b[0m\u001b[0m\n\u001b[1;32m     70\u001b[0m         \u001b[0;32mprint\u001b[0m\u001b[0;34m(\u001b[0m\u001b[0mmy_inst\u001b[0m\u001b[0;34m.\u001b[0m\u001b[0m__slots__\u001b[0m\u001b[0;34m)\u001b[0m\u001b[0;34m\u001b[0m\u001b[0m\n\u001b[0;32m---> 71\u001b[0;31m         \u001b[0mmy_inst\u001b[0m\u001b[0;34m.\u001b[0m\u001b[0mattr1\u001b[0m \u001b[0;34m=\u001b[0m \u001b[0;36m100.0\u001b[0m\u001b[0;34m\u001b[0m\u001b[0m\n\u001b[0m\u001b[1;32m     72\u001b[0m         \u001b[0;32mprint\u001b[0m\u001b[0;34m(\u001b[0m\u001b[0mmy_inst\u001b[0m\u001b[0;34m.\u001b[0m\u001b[0mattr1\u001b[0m\u001b[0;34m)\u001b[0m\u001b[0;34m\u001b[0m\u001b[0m\n\u001b[1;32m     73\u001b[0m         \u001b[0;31m# this will fail\u001b[0m\u001b[0;34m\u001b[0m\u001b[0;34m\u001b[0m\u001b[0m\n",
      "\u001b[0;32m<ipython-input-67-38ad269450e5>\u001b[0m in \u001b[0;36m__set__\u001b[0;34m(self, instance, value)\u001b[0m\n\u001b[1;32m     26\u001b[0m         \u001b[0;32mif\u001b[0m \u001b[0;32mnot\u001b[0m \u001b[0misinstance\u001b[0m\u001b[0;34m(\u001b[0m\u001b[0mvalue\u001b[0m\u001b[0;34m,\u001b[0m \u001b[0mself\u001b[0m\u001b[0;34m.\u001b[0m\u001b[0mdata_type\u001b[0m\u001b[0;34m)\u001b[0m\u001b[0;34m:\u001b[0m\u001b[0;34m\u001b[0m\u001b[0m\n\u001b[1;32m     27\u001b[0m             raise TypeError('Required data type is %s. Got %s' % (\n\u001b[0;32m---> 28\u001b[0;31m             self.data_type, type(value)))\n\u001b[0m\u001b[1;32m     29\u001b[0m         \u001b[0msetattr\u001b[0m\u001b[0;34m(\u001b[0m\u001b[0minstance\u001b[0m\u001b[0;34m,\u001b[0m \u001b[0mself\u001b[0m\u001b[0;34m.\u001b[0m\u001b[0mname\u001b[0m\u001b[0;34m,\u001b[0m \u001b[0mvalue\u001b[0m\u001b[0;34m)\u001b[0m\u001b[0;34m\u001b[0m\u001b[0m\n\u001b[1;32m     30\u001b[0m \u001b[0;34m\u001b[0m\u001b[0m\n",
      "\u001b[0;31mTypeError\u001b[0m: Required data type is <type 'int'>. Got <type 'float'>"
     ]
    }
   ],
   "source": [
    "# %load slotstyped.py\n",
    "# file: slotstyped.py\n",
    "\n",
    "\"\"\"Use of descriptor and metaclass to get slots with\n",
    "given types.\n",
    "\"\"\"\n",
    "\n",
    "from __future__ import print_function\n",
    "\n",
    "class TypDescriptor(object):\n",
    "    \"\"\"Descriptor with type.\n",
    "    \"\"\"\n",
    "\n",
    "    def __init__(self, data_type, default_value=None):\n",
    "        self.name = None\n",
    "        self.data_type = data_type\n",
    "        if default_value:\n",
    "            self.default_value = default_value\n",
    "        else:\n",
    "            self.default_value = data_type()\n",
    "\n",
    "    def __get__(self, instance, cls):\n",
    "        return getattr(instance, self.name, self.default_value)\n",
    "\n",
    "    def __set__(self, instance, value):\n",
    "        if not isinstance(value, self.data_type):\n",
    "            raise TypeError('Required data type is %s. Got %s' % (\n",
    "            self.data_type, type(value)))\n",
    "        setattr(instance, self.name, value)\n",
    "\n",
    "    def __delete__(self, instance):\n",
    "        raise AttributeError('Cannot delete %r' % instance)\n",
    "\n",
    "\n",
    "class TypeProtected(type):\n",
    "    \"\"\"Metaclass to save descriptor values in slots.\n",
    "    \"\"\"\n",
    "\n",
    "    def __new__(mcl, name, bases, cdict):\n",
    "        slots = []\n",
    "        for key, value in cdict.items():\n",
    "            if isinstance(value, TypDescriptor):\n",
    "                value.name = '__' + key\n",
    "                slots.append(value.name)\n",
    "        cdict['__slots__'] = slots\n",
    "        return super(TypeProtected, mcl).__new__(mcl, name, bases, cdict)\n",
    "\n",
    "\n",
    "if __name__ == '__main__':\n",
    "\n",
    "    from meta_2_3 import with_metaclass\n",
    "\n",
    "\n",
    "    class Typed(with_metaclass(TypeProtected)):\n",
    "        pass\n",
    "\n",
    "    class MyClass(Typed):\n",
    "        \"\"\"Test class.\"\"\"\n",
    "        attr1 = TypDescriptor(int)\n",
    "        attr2 = TypDescriptor(float, 5.5)\n",
    "\n",
    "\n",
    "    def main():\n",
    "        \"\"\"Test it.\n",
    "        \"\"\"\n",
    "        my_inst = MyClass()\n",
    "        print(my_inst.attr1)\n",
    "        print(my_inst.attr2)\n",
    "        print(dir(my_inst))\n",
    "        print(my_inst.__slots__)\n",
    "        my_inst.attr1 = 100.0\n",
    "        print(my_inst.attr1)\n",
    "        # this will fail\n",
    "        my_inst.unknown = 100\n",
    "\n",
    "    main()\n"
   ]
  },
  {
   "cell_type": "markdown",
   "metadata": {},
   "source": [
    "Slots example:"
   ]
  },
  {
   "cell_type": "code",
   "execution_count": 68,
   "metadata": {
    "collapsed": true
   },
   "outputs": [],
   "source": [
    "class S(object):\n",
    "    __slots__ = ['a', 'b']"
   ]
  },
  {
   "cell_type": "code",
   "execution_count": 69,
   "metadata": {
    "collapsed": true
   },
   "outputs": [],
   "source": [
    "s = S()"
   ]
  },
  {
   "cell_type": "code",
   "execution_count": 70,
   "metadata": {
    "collapsed": true
   },
   "outputs": [],
   "source": [
    "s.a = 12"
   ]
  },
  {
   "cell_type": "code",
   "execution_count": 71,
   "metadata": {
    "collapsed": false
   },
   "outputs": [
    {
     "ename": "AttributeError",
     "evalue": "'S' object has no attribute 'x'",
     "output_type": "error",
     "traceback": [
      "\u001b[0;31m---------------------------------------------------------------------------\u001b[0m",
      "\u001b[0;31mAttributeError\u001b[0m                            Traceback (most recent call last)",
      "\u001b[0;32m<ipython-input-71-8868888d016b>\u001b[0m in \u001b[0;36m<module>\u001b[0;34m()\u001b[0m\n\u001b[0;32m----> 1\u001b[0;31m \u001b[0ms\u001b[0m\u001b[0;34m.\u001b[0m\u001b[0mx\u001b[0m \u001b[0;34m=\u001b[0m \u001b[0;36m15\u001b[0m\u001b[0;34m\u001b[0m\u001b[0m\n\u001b[0m",
      "\u001b[0;31mAttributeError\u001b[0m: 'S' object has no attribute 'x'"
     ]
    }
   ],
   "source": [
    "s.x = 15"
   ]
  },
  {
   "cell_type": "code",
   "execution_count": 73,
   "metadata": {
    "collapsed": false
   },
   "outputs": [
    {
     "ename": "AttributeError",
     "evalue": "'S' object has no attribute '__dict__'",
     "output_type": "error",
     "traceback": [
      "\u001b[0;31m---------------------------------------------------------------------------\u001b[0m",
      "\u001b[0;31mAttributeError\u001b[0m                            Traceback (most recent call last)",
      "\u001b[0;32m<ipython-input-73-22a48543beb8>\u001b[0m in \u001b[0;36m<module>\u001b[0;34m()\u001b[0m\n\u001b[0;32m----> 1\u001b[0;31m \u001b[0ms\u001b[0m\u001b[0;34m.\u001b[0m\u001b[0m__dict__\u001b[0m\u001b[0;34m\u001b[0m\u001b[0m\n\u001b[0m",
      "\u001b[0;31mAttributeError\u001b[0m: 'S' object has no attribute '__dict__'"
     ]
    }
   ],
   "source": [
    "s.__dict__"
   ]
  },
  {
   "cell_type": "code",
   "execution_count": null,
   "metadata": {
    "collapsed": true
   },
   "outputs": [],
   "source": []
  }
 ],
 "metadata": {
  "kernelspec": {
   "display_name": "Python 2",
   "language": "python",
   "name": "python2"
  },
  "language_info": {
   "codemirror_mode": {
    "name": "ipython",
    "version": 2
   },
   "file_extension": ".py",
   "mimetype": "text/x-python",
   "name": "python",
   "nbconvert_exporter": "python",
   "pygments_lexer": "ipython2",
   "version": "2.7.5"
  }
 },
 "nbformat": 4,
 "nbformat_minor": 0
}
