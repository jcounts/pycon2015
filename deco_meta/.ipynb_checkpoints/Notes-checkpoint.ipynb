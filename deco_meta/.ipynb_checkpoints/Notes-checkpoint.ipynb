{
 "cells": [
  {
   "cell_type": "code",
   "execution_count": 1,
   "metadata": {
    "collapsed": true
   },
   "outputs": [],
   "source": [
    "class Square(object):\n",
    "    def __init__(self, side):\n",
    "        self.side = side\n",
    "    def aget(self):\n",
    "        return self.side ** 2\n",
    "    def aset(self, value):\n",
    "        print('Cannot set area')\n",
    "    def adel(self):\n",
    "        print('Cannot delete area')\n",
    "    area = property(aget, aset, adel, doc='Area of a square.')"
   ]
  },
  {
   "cell_type": "code",
   "execution_count": 2,
   "metadata": {
    "collapsed": true
   },
   "outputs": [],
   "source": [
    "s = Square(5)"
   ]
  },
  {
   "cell_type": "code",
   "execution_count": 3,
   "metadata": {
    "collapsed": false
   },
   "outputs": [
    {
     "data": {
      "text/plain": [
       "25"
      ]
     },
     "execution_count": 3,
     "metadata": {},
     "output_type": "execute_result"
    }
   ],
   "source": [
    "s.area"
   ]
  },
  {
   "cell_type": "code",
   "execution_count": 5,
   "metadata": {
    "collapsed": false
   },
   "outputs": [],
   "source": [
    "!cd .."
   ]
  },
  {
   "cell_type": "code",
   "execution_count": 6,
   "metadata": {
    "collapsed": false
   },
   "outputs": [
    {
     "name": "stdout",
     "output_type": "stream",
     "text": [
      "Untitled.ipynb  \u001b[34mdescriptors\u001b[m\u001b[m/    \u001b[34mmetaclasses\u001b[m\u001b[m/    \u001b[34mproperties\u001b[m\u001b[m/\r\n"
     ]
    }
   ],
   "source": [
    "ls"
   ]
  },
  {
   "cell_type": "code",
   "execution_count": null,
   "metadata": {
    "collapsed": true
   },
   "outputs": [],
   "source": [
    "# %load properties/square.py\n",
    "\"\"\"Properties with decorators.\n",
    "\"\"\"\n",
    "\n",
    "from __future__ import print_function\n",
    "\n",
    "class Square(object):\n",
    "    \"\"\"A square using properties with decorators.\n",
    "    \"\"\"\n",
    "\n",
    "    def __init__(self, side):\n",
    "        self.side = side\n",
    "\n",
    "    @property\n",
    "    def area(self):\n",
    "        \"\"\"Calculate the area of the square when the\n",
    "        attribute is accessed.\"\"\"\n",
    "        return self.side * self.side\n",
    "\n",
    "    @area.setter\n",
    "    def area(self, value):\n",
    "        \"\"\"Don't allow setting.\"\"\"\n",
    "        print(\"Can't set the area\")\n",
    "\n",
    "    @area.deleter\n",
    "    def area(self):\n",
    "        \"\"\"Don't allow deleting.\"\"\"\n",
    "        print(\"Can't delete the area.\")\n",
    "\n",
    "\n",
    "if __name__ == '__main__':\n",
    "\n",
    "    square = Square(5)\n",
    "    print('area:', square.area)\n",
    "    print('try to set')\n",
    "    square.area = 10\n",
    "    print('area:', square.area)\n",
    "    print('try to delete')\n",
    "    del square.area\n",
    "    print('area:', square.area)\n"
   ]
  },
  {
   "cell_type": "code",
   "execution_count": 9,
   "metadata": {
    "collapsed": false,
    "scrolled": true
   },
   "outputs": [
    {
     "name": "stdout",
     "output_type": "stream",
     "text": [
      "area: 25\n",
      "try to set\n",
      "Can't set the area\n",
      "area: 25\n",
      "try to delete\n",
      "Can't delete the area.\n",
      "area: 25\n",
      "Property that defines is methods nested.\n",
      "        \n"
     ]
    }
   ],
   "source": [
    "# %load properties/square_nested.py\n",
    "\"\"\"Use a decorator to allow nested properties.\n",
    "\"\"\"\n",
    "\n",
    "from __future__ import print_function\n",
    "\n",
    "def nested_property(func):\n",
    "    \"\"\"Make defining properties simpler.\n",
    "    \"\"\"\n",
    "    names = func()\n",
    "    # We want the docstring from the decorated function.\n",
    "    # If we do not set 'doc', we get the docstring from `fget`.\n",
    "    names['doc'] = func.__doc__\n",
    "    return property(**names)\n",
    "\n",
    "\n",
    "class Square(object):\n",
    "    \"\"\"A square using properties with decorators.\n",
    "    \"\"\"\n",
    "\n",
    "    def __init__(self, side):\n",
    "        self.side = side\n",
    "\n",
    "    @nested_property\n",
    "    def area():\n",
    "        \"\"\"Property that defines is methods nested.\n",
    "        \"\"\"\n",
    "\n",
    "        def fget(self):\n",
    "            \"\"\"\n",
    "            Calculate the area of the square\n",
    "            when the attribute is accessed.\n",
    "            \"\"\"\n",
    "            return self.side * self.side\n",
    "\n",
    "        def fset(self, value):\n",
    "            \"\"\"Don't allow setting.\"\"\"\n",
    "            print(\"Can't set the area\")\n",
    "\n",
    "        def fdel(self):\n",
    "            \"\"\"Don't allow deleting.\"\"\"\n",
    "            print(\"Can't delete the area.\")\n",
    "\n",
    "        return locals()\n",
    "\n",
    "\n",
    "if __name__ == '__main__':\n",
    "\n",
    "    square = Square(5)\n",
    "    print('area:', square.area)\n",
    "    print('try to set')\n",
    "    square.area = 10\n",
    "    print('area:', square.area)\n",
    "    print('try to delete')\n",
    "    del square.area\n",
    "    print('area:', square.area)\n",
    "    print(Square.area.__doc__)\n"
   ]
  },
  {
   "cell_type": "code",
   "execution_count": 10,
   "metadata": {
    "collapsed": false
   },
   "outputs": [
    {
     "name": "stdout",
     "output_type": "stream",
     "text": [
      "Untitled.ipynb  \u001b[34mdescriptors\u001b[m\u001b[m/    \u001b[34mmetaclasses\u001b[m\u001b[m/    \u001b[34mproperties\u001b[m\u001b[m/\r\n"
     ]
    }
   ],
   "source": [
    "ls"
   ]
  },
  {
   "cell_type": "code",
   "execution_count": 12,
   "metadata": {
    "collapsed": true
   },
   "outputs": [],
   "source": [
    "# %load descriptors/datadescriptor.py\n",
    "\"\"\"A typical data descriptor.\n",
    "\"\"\"\n",
    "\n",
    "from __future__ import print_function\n",
    "\n",
    "class DataDescriptor(object):\n",
    "    \"\"\"A simple descriptor.\n",
    "    \"\"\"\n",
    "    def __init__(self):\n",
    "        self.value = 0\n",
    "    def __get__(self, instance, cls):\n",
    "        print('data descriptor __get__')\n",
    "        return self.value\n",
    "    def __set__(self, instance, value):\n",
    "        print('data descriptor __set__')\n",
    "        try:\n",
    "            self.value = value.upper()\n",
    "        except AttributeError:\n",
    "            self.value = value\n",
    "    def __delete__(self, instance):\n",
    "        print(\"Don't like to be deleted.\" )\n"
   ]
  },
  {
   "cell_type": "code",
   "execution_count": 13,
   "metadata": {
    "collapsed": true
   },
   "outputs": [],
   "source": [
    "class A(object):\n",
    "    attr = DataDescriptor()"
   ]
  },
  {
   "cell_type": "code",
   "execution_count": 14,
   "metadata": {
    "collapsed": true
   },
   "outputs": [],
   "source": [
    "a = A()"
   ]
  },
  {
   "cell_type": "code",
   "execution_count": 15,
   "metadata": {
    "collapsed": false
   },
   "outputs": [
    {
     "name": "stdout",
     "output_type": "stream",
     "text": [
      "data descriptor __get__\n"
     ]
    },
    {
     "data": {
      "text/plain": [
       "0"
      ]
     },
     "execution_count": 15,
     "metadata": {},
     "output_type": "execute_result"
    }
   ],
   "source": [
    "a.attr"
   ]
  },
  {
   "cell_type": "markdown",
   "metadata": {},
   "source": [
    "The above internally does:"
   ]
  },
  {
   "cell_type": "code",
   "execution_count": 16,
   "metadata": {
    "collapsed": false
   },
   "outputs": [
    {
     "name": "stdout",
     "output_type": "stream",
     "text": [
      "data descriptor __get__\n"
     ]
    },
    {
     "data": {
      "text/plain": [
       "0"
      ]
     },
     "execution_count": 16,
     "metadata": {},
     "output_type": "execute_result"
    }
   ],
   "source": [
    "type(a).__dict__['attr'].__get__(a, type(a))"
   ]
  },
  {
   "cell_type": "code",
   "execution_count": 17,
   "metadata": {
    "collapsed": false
   },
   "outputs": [
    {
     "name": "stdout",
     "output_type": "stream",
     "text": [
      "data descriptor __set__\n"
     ]
    }
   ],
   "source": [
    "a.attr = 'hi'"
   ]
  },
  {
   "cell_type": "code",
   "execution_count": 18,
   "metadata": {
    "collapsed": false
   },
   "outputs": [
    {
     "name": "stdout",
     "output_type": "stream",
     "text": [
      "data descriptor __get__\n"
     ]
    },
    {
     "data": {
      "text/plain": [
       "'HI'"
      ]
     },
     "execution_count": 18,
     "metadata": {},
     "output_type": "execute_result"
    }
   ],
   "source": [
    "a.attr"
   ]
  },
  {
   "cell_type": "code",
   "execution_count": 19,
   "metadata": {
    "collapsed": true
   },
   "outputs": [],
   "source": [
    "\"\"\"A typical non data descriptor.\n",
    "\"\"\"\n",
    "\n",
    "from __future__ import print_function\n",
    "\n",
    "class NonDataDescriptor(object):\n",
    "    \"\"\"A simple descriptor.\n",
    "    \"\"\"\n",
    "    def __init__(self):\n",
    "        self.value = 0\n",
    "    def __get__(self, instance, cls):\n",
    "        print('data descriptor __get__')\n",
    "        return self.value + 10"
   ]
  },
  {
   "cell_type": "code",
   "execution_count": 20,
   "metadata": {
    "collapsed": true
   },
   "outputs": [],
   "source": [
    "class B(object):\n",
    "    attr = NonDataDescriptor()"
   ]
  },
  {
   "cell_type": "code",
   "execution_count": 21,
   "metadata": {
    "collapsed": true
   },
   "outputs": [],
   "source": [
    "ten = B()"
   ]
  },
  {
   "cell_type": "code",
   "execution_count": 22,
   "metadata": {
    "collapsed": false
   },
   "outputs": [
    {
     "name": "stdout",
     "output_type": "stream",
     "text": [
      "data descriptor __get__\n"
     ]
    },
    {
     "data": {
      "text/plain": [
       "10"
      ]
     },
     "execution_count": 22,
     "metadata": {},
     "output_type": "execute_result"
    }
   ],
   "source": [
    "ten.attr"
   ]
  },
  {
   "cell_type": "code",
   "execution_count": 23,
   "metadata": {
    "collapsed": true
   },
   "outputs": [],
   "source": [
    "ten.attr = 100"
   ]
  },
  {
   "cell_type": "code",
   "execution_count": 24,
   "metadata": {
    "collapsed": false
   },
   "outputs": [
    {
     "data": {
      "text/plain": [
       "100"
      ]
     },
     "execution_count": 24,
     "metadata": {},
     "output_type": "execute_result"
    }
   ],
   "source": [
    "ten.attr"
   ]
  },
  {
   "cell_type": "code",
   "execution_count": 26,
   "metadata": {
    "collapsed": false
   },
   "outputs": [],
   "source": [
    "class Overridden(object):\n",
    "    attr = DataDescriptor()\n",
    "    def __getattribute__(self, name):\n",
    "        print('no way')"
   ]
  },
  {
   "cell_type": "code",
   "execution_count": 28,
   "metadata": {
    "collapsed": false
   },
   "outputs": [],
   "source": [
    "o = Overridden()"
   ]
  },
  {
   "cell_type": "code",
   "execution_count": 29,
   "metadata": {
    "collapsed": false
   },
   "outputs": [
    {
     "name": "stdout",
     "output_type": "stream",
     "text": [
      "no way\n"
     ]
    }
   ],
   "source": [
    "o.attr"
   ]
  },
  {
   "cell_type": "code",
   "execution_count": 30,
   "metadata": {
    "collapsed": true
   },
   "outputs": [],
   "source": [
    "def func():\n",
    "    pass"
   ]
  },
  {
   "cell_type": "code",
   "execution_count": 31,
   "metadata": {
    "collapsed": false
   },
   "outputs": [
    {
     "data": {
      "text/plain": [
       "<method-wrapper '__get__' of function object at 0x1054ebb90>"
      ]
     },
     "execution_count": 31,
     "metadata": {},
     "output_type": "execute_result"
    }
   ],
   "source": [
    "func.__get__"
   ]
  },
  {
   "cell_type": "code",
   "execution_count": 32,
   "metadata": {
    "collapsed": true
   },
   "outputs": [],
   "source": [
    "class C(object):\n",
    "    def meth(self):\n",
    "        pass"
   ]
  },
  {
   "cell_type": "code",
   "execution_count": 33,
   "metadata": {
    "collapsed": true
   },
   "outputs": [],
   "source": [
    "c = C()"
   ]
  },
  {
   "cell_type": "code",
   "execution_count": 34,
   "metadata": {
    "collapsed": false
   },
   "outputs": [
    {
     "data": {
      "text/plain": [
       "<bound method C.meth of <__main__.C object at 0x105029410>>"
      ]
     },
     "execution_count": 34,
     "metadata": {},
     "output_type": "execute_result"
    }
   ],
   "source": [
    "c.meth"
   ]
  },
  {
   "cell_type": "code",
   "execution_count": 35,
   "metadata": {
    "collapsed": false
   },
   "outputs": [
    {
     "data": {
      "text/plain": [
       "<unbound method C.meth>"
      ]
     },
     "execution_count": 35,
     "metadata": {},
     "output_type": "execute_result"
    }
   ],
   "source": [
    "C.meth"
   ]
  },
  {
   "cell_type": "code",
   "execution_count": 37,
   "metadata": {
    "collapsed": false
   },
   "outputs": [
    {
     "name": "stdout",
     "output_type": "stream",
     "text": [
      "store1 10\n",
      "store2 10\n",
      "Setting store1 only.\n",
      "store1 100\n",
      "store2 100\n"
     ]
    }
   ],
   "source": [
    "# %load descriptors/class_storage.py\n",
    "\n",
    "\"\"\"A descriptor works only in a class.\n",
    "\n",
    "Storing attribute data directly in a descriptor\n",
    "means sharing between instances.\n",
    "\"\"\"\n",
    "\n",
    "from __future__ import print_function\n",
    "\n",
    "\n",
    "class DescriptorClassStorage(object):\n",
    "    \"\"\"Descriptor storing data in class.\"\"\"\n",
    "\n",
    "    def __init__(self, default=None):\n",
    "        self.value = default\n",
    "\n",
    "    def __get__(self, instance, owner):\n",
    "        return self.value\n",
    "\n",
    "    def __set__(self, instance, value):\n",
    "        self.value = value\n",
    "\n",
    "\n",
    "if __name__ == '__main__':\n",
    "    class StoreClass(object):\n",
    "        \"\"\"All instances will share `attr`.\n",
    "        \"\"\"\n",
    "        attr = DescriptorClassStorage(10)\n",
    "\n",
    "    store1 = StoreClass()\n",
    "    store2 = StoreClass()\n",
    "    print('store1', store1.attr)\n",
    "    print('store2', store2.attr)\n",
    "    print('Setting store1 only.')\n",
    "    store1.attr = 100\n",
    "    print('store1', store1.attr)\n",
    "    print('store2', store2.attr)\n"
   ]
  },
  {
   "cell_type": "code",
   "execution_count": 39,
   "metadata": {
    "collapsed": false
   },
   "outputs": [
    {
     "name": "stdout",
     "output_type": "stream",
     "text": [
      "store1 10\n",
      "store2 10\n",
      "Setting store1 only.\n",
      "store1 100\n",
      "store2 10\n",
      "_hidden: [(<__main__.StoreInstance object at 0x105507c50>, 100)]\n",
      "Deleted store1\n",
      "_hidden: []\n"
     ]
    }
   ],
   "source": [
    "# %load descriptors/weakkeydict_storage.py\n",
    "\n",
    "\"\"\"A descriptor works only in a class.\n",
    "\n",
    "We can store a different value for each instance in a dictionary\n",
    "in the descriptor.\n",
    "\"\"\"\n",
    "\n",
    "from __future__ import print_function\n",
    "\n",
    "from weakref import WeakKeyDictionary\n",
    "\n",
    "\n",
    "class DescriptorWeakKeyDictStorage(object):\n",
    "    \"\"\"Descriptor that stores attribute data in instances.\n",
    "    \"\"\"\n",
    "    _hidden = WeakKeyDictionary()\n",
    "\n",
    "    def __init__(self, default=None):\n",
    "        self.default = default\n",
    "\n",
    "    def __get__(self, instance, owner):\n",
    "        return DescriptorWeakKeyDictStorage._hidden.get(instance, self.default)\n",
    "\n",
    "    def __set__(self, instance, value):\n",
    "        DescriptorWeakKeyDictStorage._hidden[instance] = value\n",
    "\n",
    "\n",
    "if __name__ == '__main__':\n",
    "    class StoreInstance(object):\n",
    "        \"\"\"All instances have own `attr`.\n",
    "        \"\"\"\n",
    "        attr = DescriptorWeakKeyDictStorage(10)\n",
    "\n",
    "    store1 = StoreInstance()\n",
    "    store2 = StoreInstance()\n",
    "    print('store1', store1.attr)\n",
    "    print('store2', store2.attr)\n",
    "    print('Setting store1 only.')\n",
    "    store1.attr = 100\n",
    "    print('store1', store1.attr)\n",
    "    print('store2', store2.attr)\n",
    "    print('_hidden:', DescriptorWeakKeyDictStorage._hidden.items())\n",
    "    del store1\n",
    "    print('Deleted store1')\n",
    "    print('_hidden:', DescriptorWeakKeyDictStorage._hidden.items())\n",
    "\n"
   ]
  },
  {
   "cell_type": "code",
   "execution_count": 41,
   "metadata": {
    "collapsed": false
   },
   "outputs": [
    {
     "name": "stdout",
     "output_type": "stream",
     "text": [
      "Cannot set default to float, must be int.\n",
      "attr1 10\n",
      "attr1 100\n",
      "Cannot set attr1 to float, must be int.\n"
     ]
    }
   ],
   "source": [
    "# %load descriptors/checked.py\n",
    "\n",
    "\"\"\"Example for descriptor that checks conditions on attributes.\n",
    "\"\"\"\n",
    "from __future__ import print_function\n",
    "\n",
    "from weakref import WeakKeyDictionary\n",
    "\n",
    "\n",
    "class Checked(object):\n",
    "    \"\"\"Descriptor that checks with a user-supplied check function\n",
    "    if an attribute is valid.\n",
    "    \"\"\"\n",
    "\n",
    "    _hidden = WeakKeyDictionary()\n",
    "\n",
    "    def __init__(self, checker=None, default=None):\n",
    "        if checker:\n",
    "            # checker must be a callable\n",
    "            checker(default)\n",
    "        self.checker = checker\n",
    "        self.default = default\n",
    "\n",
    "    def __get__(self, instance, owner):\n",
    "        return Checked._hidden.get(instance, self.default)\n",
    "\n",
    "    def __set__(self, instance, value):\n",
    "        if self.checker:\n",
    "            self.checker(value)\n",
    "        Checked._hidden[instance] = value\n",
    "\n",
    "\n",
    "if __name__ == '__main__':\n",
    "\n",
    "    def is_int(value):\n",
    "        \"\"\"Check if value is an integer.\n",
    "        \"\"\"\n",
    "        if not isinstance(value, int):\n",
    "            raise ValueError('Int required {} found'.format(type(value)))\n",
    "\n",
    "    class Restricted(object):\n",
    "        \"\"\"Use checked attributes.\n",
    "        \"\"\"\n",
    "        attr1 = Checked(checker=is_int, default=10)\n",
    "        attr2 = Checked(default=12.5)\n",
    "        # Setting the default to float, `is_int` raises a `ValueError`.\n",
    "        try:\n",
    "            attr3 = Checked(checker=is_int, default=12.5)\n",
    "        except ValueError:\n",
    "            print('Cannot set default to float, must be int.')\n",
    "            attr3 = Checked(checker=is_int, default=12)\n",
    "\n",
    "    restricted = Restricted()\n",
    "    print('attr1', restricted.attr1)\n",
    "    restricted.attr1 = 100\n",
    "    print('attr1', restricted.attr1)\n",
    "    try:\n",
    "        restricted.attr1 = 200.12\n",
    "    except ValueError:\n",
    "        print('Cannot set attr1 to float, must be int.')\n",
    "        restricted.attr1 = 200\n"
   ]
  },
  {
   "cell_type": "code",
   "execution_count": 42,
   "metadata": {
    "collapsed": true
   },
   "outputs": [],
   "source": [
    "class C(object):\n",
    "    attr = 10"
   ]
  },
  {
   "cell_type": "markdown",
   "metadata": {},
   "source": [
    "same as:"
   ]
  },
  {
   "cell_type": "code",
   "execution_count": 43,
   "metadata": {
    "collapsed": true
   },
   "outputs": [],
   "source": [
    "C = type('C', (object,), {'attr': 10})"
   ]
  },
  {
   "cell_type": "code",
   "execution_count": 44,
   "metadata": {
    "collapsed": true
   },
   "outputs": [],
   "source": [
    "class MyMeta(type):\n",
    "    def __str__(cls):\n",
    "        return 'hello'"
   ]
  },
  {
   "cell_type": "code",
   "execution_count": 45,
   "metadata": {
    "collapsed": true
   },
   "outputs": [],
   "source": [
    "class A:\n",
    "    __metaclass__ = MyMeta"
   ]
  },
  {
   "cell_type": "code",
   "execution_count": 46,
   "metadata": {
    "collapsed": false
   },
   "outputs": [
    {
     "data": {
      "text/plain": [
       "'hello'"
      ]
     },
     "execution_count": 46,
     "metadata": {},
     "output_type": "execute_result"
    }
   ],
   "source": [
    "str(A)"
   ]
  },
  {
   "cell_type": "code",
   "execution_count": 47,
   "metadata": {
    "collapsed": false
   },
   "outputs": [
    {
     "data": {
      "text/plain": [
       "__main__.A"
      ]
     },
     "execution_count": 47,
     "metadata": {},
     "output_type": "execute_result"
    }
   ],
   "source": [
    "A"
   ]
  },
  {
   "cell_type": "code",
   "execution_count": 49,
   "metadata": {
    "collapsed": false
   },
   "outputs": [
    {
     "data": {
      "text/plain": [
       "__main__.MyMeta"
      ]
     },
     "execution_count": 49,
     "metadata": {},
     "output_type": "execute_result"
    }
   ],
   "source": [
    "type(A)"
   ]
  },
  {
   "cell_type": "code",
   "execution_count": 50,
   "metadata": {
    "collapsed": true
   },
   "outputs": [],
   "source": [
    "a = A"
   ]
  },
  {
   "cell_type": "code",
   "execution_count": 53,
   "metadata": {
    "collapsed": true
   },
   "outputs": [],
   "source": [
    "class MyMeta(type):\n",
    "    def __new__(mcl, name, bases, cdict):\n",
    "        print(mcl)\n",
    "        print(name)\n",
    "        print(cdict)\n",
    "        super(MyMeta, mcl).__new__(mcl, name, bases, cdict)"
   ]
  },
  {
   "cell_type": "code",
   "execution_count": null,
   "metadata": {
    "collapsed": true
   },
   "outputs": [],
   "source": []
  },
  {
   "cell_type": "code",
   "execution_count": null,
   "metadata": {
    "collapsed": true
   },
   "outputs": [],
   "source": []
  }
 ],
 "metadata": {
  "kernelspec": {
   "display_name": "Python 2",
   "language": "python",
   "name": "python2"
  },
  "language_info": {
   "codemirror_mode": {
    "name": "ipython",
    "version": 2
   },
   "file_extension": ".py",
   "mimetype": "text/x-python",
   "name": "python",
   "nbconvert_exporter": "python",
   "pygments_lexer": "ipython2",
   "version": "2.7.5"
  }
 },
 "nbformat": 4,
 "nbformat_minor": 0
}
